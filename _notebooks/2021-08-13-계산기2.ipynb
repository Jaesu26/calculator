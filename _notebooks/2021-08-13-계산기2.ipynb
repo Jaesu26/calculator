{
 "cells": [
  {
   "cell_type": "markdown",
   "id": "injured-cover",
   "metadata": {},
   "source": [
    "# 계산기2\n",
    "\n",
    "> \"작성 중\"\n",
    "\n",
    "- toc: true\n",
    "- branch: master\n",
    "- badges: true\n",
    "- comments: true\n",
    "- author: 한재수\n",
    "- categories: [python]"
   ]
  },
  {
   "cell_type": "markdown",
   "id": "indoor-practice",
   "metadata": {},
   "source": [
    "`-` 기존 계산기에 부족한 기능을 보완하여 버전2 계산기를 만들려고 함\n",
    "\n",
    "`-` 버전1 계산기에서 업그레이드된 함수 기능에 대한 설명을 추가할 거임"
   ]
  },
  {
   "cell_type": "markdown",
   "id": "following-boost",
   "metadata": {},
   "source": [
    "# 계산기2 함수 전체 코드(미완성)\n",
    "`-` 기존 계산기에서 추가된 함수에 대한 설명"
   ]
  },
  {
   "cell_type": "markdown",
   "id": "million-register",
   "metadata": {},
   "source": [
    "```python\n",
    "## Backspace \n",
    "def backspace_button_click():\n",
    "    global reset\n",
    "    \n",
    "    if reset == 1 or reset == 2:\n",
    "        entry.delete(0, 'end')\n",
    "        \n",
    "    else:\n",
    "        current_entry = entry.get()[:-1]\n",
    "        entry.delete(0, 'end')\n",
    "        entry.insert(0, current_entry)\n",
    "    \n",
    "    reset = 0\n",
    "    \n",
    "    \n",
    "## Transcendental number\n",
    "def transcendental_number_button_click(tran_num):\n",
    "    global reset\n",
    "\n",
    "    if reset == 1 or reset == 2:\n",
    "        entry.delete(0, 'end')\n",
    "        entry.insert(0, tran_num)\n",
    "    \n",
    "    current_entry = entry.get()\n",
    "    new_entry = current_entry + tran_num\n",
    "    \n",
    "    if len(current_entry) < 1:\n",
    "        entry.insert(0, tran_num)\n",
    "        \n",
    "    else:\n",
    "        last = current_entry[-1]\n",
    "        \n",
    "        if last == '+' or last == '-' or last == '×' or last == '÷' or last == '(' or last == ')':\n",
    "            entry.delete(0, 'end')\n",
    "            entry.insert(0, new_entry)\n",
    "                 \n",
    "    reset = 0\n",
    "```"
   ]
  },
  {
   "cell_type": "markdown",
   "id": "thick-montreal",
   "metadata": {},
   "source": [
    "## backspace_button_click "
   ]
  },
  {
   "cell_type": "markdown",
   "id": "compressed-venture",
   "metadata": {},
   "source": [
    "```python\n",
    "## Backspace \n",
    "def backspace_button_click():\n",
    "    global reset\n",
    "    \n",
    "    if reset == 1 or reset == 2:\n",
    "        entry.delete(0, 'end')\n",
    "        \n",
    "    else:\n",
    "        current_entry = entry.get()[:-1]\n",
    "        entry.delete(0, 'end')\n",
    "        entry.insert(0, current_entry)\n",
    "    \n",
    "    reset = 0\n",
    "    \n",
    "```    "
   ]
  },
  {
   "cell_type": "markdown",
   "id": "clear-irrigation",
   "metadata": {},
   "source": [
    "## transcendental_number_button_click"
   ]
  },
  {
   "cell_type": "markdown",
   "id": "differential-dominican",
   "metadata": {},
   "source": [
    "```python\n",
    "## Transcendental number\n",
    "def transcendental_number_button_click(tran_num):\n",
    "    global reset\n",
    "\n",
    "    if reset == 1 or reset == 2:\n",
    "        entry.delete(0, 'end')\n",
    "        entry.insert(0, tran_num)\n",
    "    \n",
    "    current_entry = entry.get()\n",
    "    new_entry = current_entry + tran_num\n",
    "    \n",
    "    if len(current_entry) < 1:\n",
    "        entry.insert(0, tran_num)\n",
    "        \n",
    "    else:\n",
    "        last = current_entry[-1]\n",
    "        \n",
    "        if last == '+' or last == '-' or last == '×' or last == '÷' or last == '(' or last == ')':\n",
    "            entry.delete(0, 'end')\n",
    "            entry.insert(0, new_entry)\n",
    "                 \n",
    "    reset = 0\n",
    "```"
   ]
  },
  {
   "cell_type": "code",
   "execution_count": null,
   "id": "emerging-meditation",
   "metadata": {},
   "outputs": [],
   "source": []
  }
 ],
 "metadata": {
  "kernelspec": {
   "display_name": "Python 3",
   "language": "python",
   "name": "python3"
  },
  "language_info": {
   "codemirror_mode": {
    "name": "ipython",
    "version": 3
   },
   "file_extension": ".py",
   "mimetype": "text/x-python",
   "name": "python",
   "nbconvert_exporter": "python",
   "pygments_lexer": "ipython3",
   "version": "3.8.8"
  }
 },
 "nbformat": 4,
 "nbformat_minor": 5
}

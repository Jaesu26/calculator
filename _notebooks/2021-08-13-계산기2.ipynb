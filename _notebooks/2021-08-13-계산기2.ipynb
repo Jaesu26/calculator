{
 "cells": [
  {
   "cell_type": "markdown",
   "id": "weighted-newspaper",
   "metadata": {},
   "source": [
    "# 계산기2\n",
    "\n",
    "> \"작성 완료\"\n",
    "\n",
    "- toc: true\n",
    "- branch: master\n",
    "- badges: true\n",
    "- comments: true\n",
    "- author: 한재수\n",
    "- categories: [python]"
   ]
  },
  {
   "cell_type": "markdown",
   "id": "infectious-mediterranean",
   "metadata": {},
   "source": [
    "`-` 기존 계산기에 부족한 기능을 보완하여 버전2 계산기를 만들려고 함\n",
    "\n",
    "`-` 버전1 계산기에서 업그레이드된 함수 기능에 대한 설명을 추가할 거임\n",
    "\n",
    "`-` 후에 기능을 더 추가할 수 도 있음"
   ]
  },
  {
   "cell_type": "markdown",
   "id": "senior-apple",
   "metadata": {},
   "source": [
    "# 계산기2 함수 전체 코드(완성)\n",
    "`-` 기존 계산기에서 추가된 함수에 대한 설명"
   ]
  },
  {
   "cell_type": "markdown",
   "id": "sealed-mechanics",
   "metadata": {},
   "source": [
    "```python\n",
    "## Backspace \n",
    "def backspace_button_click():\n",
    "    global reset\n",
    "    \n",
    "    if reset == 1 or reset == 2:\n",
    "        entry.delete(0, 'end')\n",
    "        \n",
    "    else:\n",
    "        current_entry = entry.get()[:-1]\n",
    "        entry.delete(0, 'end')\n",
    "        entry.insert(0, current_entry)\n",
    "    \n",
    "    reset = 0\n",
    "\n",
    "\n",
    "## Transcendental number(pi and e)\n",
    "def transcendental_number_button_click(tran_num):\n",
    "    global reset\n",
    "\n",
    "    if reset == 1 or reset == 2:\n",
    "        entry.delete(0, 'end')\n",
    "        entry.insert(0, tran_num)\n",
    "    \n",
    "    current_entry = entry.get()\n",
    "    new_entry = current_entry + tran_num\n",
    "    \n",
    "    if len(current_entry) < 1:\n",
    "        entry.insert(0, tran_num)\n",
    "        \n",
    "    else:\n",
    "        last = current_entry[-1]\n",
    "        \n",
    "        if last == '+' or last == '-' or last == '×' or last == '÷' or last == '(':\n",
    "            entry.delete(0, 'end')\n",
    "            entry.insert(0, new_entry)\n",
    "                 \n",
    "    reset = 0\n",
    "\n",
    "    \n",
    "## 제곱\n",
    "def square_button_click():\n",
    "    global reset\n",
    "    \n",
    "    current_entry = entry.get()\n",
    "    new_entry = current_entry + '^2'\n",
    "    \n",
    "    if reset == 1 or current_entry == '':\n",
    "        entry.delete(0, 'end')\n",
    "        \n",
    "    if reset == 2:\n",
    "        entry.delete(0, 'end')\n",
    "        entry.insert(0, new_entry)\n",
    "        \n",
    "    else:\n",
    "        last = current_entry[-1]\n",
    "        \n",
    "        if last != '+' and last != '-' and last != '×' and last != '÷' and last != '(':\n",
    "            entry.delete(0, 'end')\n",
    "            entry.insert(0, new_entry)\n",
    "                 \n",
    "    reset = 0    \n",
    "    \n",
    "## 제곱근(√)\n",
    "def square_root_button_click():\n",
    "    global reset\n",
    "    \n",
    "    current_entry = entry.get()\n",
    "    new_entry = current_entry + '√('\n",
    "    \n",
    "    if reset == 1 or reset == 2 or current_entry == '':\n",
    "        entry.delete(0, 'end')\n",
    "        entry.insert(0, '√(')\n",
    "        \n",
    "    else:\n",
    "        last = current_entry[-1]\n",
    "        \n",
    "        if last == '+' or last == '-' or last == '×' or last == '÷' or last == '(':\n",
    "            entry.delete(0, 'end')\n",
    "            entry.insert(0, new_entry)\n",
    "    \n",
    "    reset = 0\n",
    "    \n",
    "## 자연로그\n",
    "def log_e_button_click():\n",
    "    global reset\n",
    "    \n",
    "    current_entry = entry.get()\n",
    "    new_entry = current_entry + 'ln('\n",
    "    \n",
    "    if reset == 1 or reset == 2 or current_entry == '':\n",
    "        entry.delete(0, 'end')\n",
    "        entry.insert(0, 'ln(')\n",
    "        \n",
    "    else:\n",
    "        last = current_entry[-1]\n",
    "        \n",
    "        if last == '+' or last == '-' or last == '×' or last == '÷' or last == '(':\n",
    "            entry.delete(0, 'end')\n",
    "            entry.insert(0, new_entry)\n",
    "    \n",
    "    reset = 0    \n",
    "    \n",
    "```"
   ]
  },
  {
   "cell_type": "markdown",
   "id": "fancy-fourth",
   "metadata": {},
   "source": [
    "## backspace_button_click "
   ]
  },
  {
   "cell_type": "markdown",
   "id": "structured-liabilities",
   "metadata": {},
   "source": [
    "```python\n",
    "## Backspace \n",
    "def backspace_button_click():\n",
    "    global reset\n",
    "    \n",
    "    if reset == 1 or reset == 2:\n",
    "        entry.delete(0, 'end')\n",
    "        \n",
    "    else:\n",
    "        current_entry = entry.get()[:-1]\n",
    "        entry.delete(0, 'end')\n",
    "        entry.insert(0, current_entry)\n",
    "    \n",
    "    reset = 0\n",
    "    \n",
    "```    "
   ]
  },
  {
   "cell_type": "markdown",
   "id": "pending-application",
   "metadata": {},
   "source": [
    "`-` current_entry에서 마지막 글자를 지운다"
   ]
  },
  {
   "cell_type": "markdown",
   "id": "under-kentucky",
   "metadata": {},
   "source": [
    "## transcendental_number_button_click"
   ]
  },
  {
   "cell_type": "markdown",
   "id": "dramatic-above",
   "metadata": {},
   "source": [
    "```python\n",
    "## Transcendental number\n",
    "def transcendental_number_button_click(tran_num):\n",
    "    global reset\n",
    "\n",
    "    if reset == 1 or reset == 2:\n",
    "        entry.delete(0, 'end')\n",
    "        entry.insert(0, tran_num)\n",
    "    \n",
    "    current_entry = entry.get()\n",
    "    new_entry = current_entry + tran_num\n",
    "    \n",
    "    if len(current_entry) < 1:\n",
    "        entry.insert(0, tran_num)\n",
    "        \n",
    "    else:\n",
    "        last = current_entry[-1]\n",
    "        \n",
    "        if last == '+' or last == '-' or last == '×' or last == '÷' or last == '(' or last == ')':\n",
    "            entry.delete(0, 'end')\n",
    "            entry.insert(0, new_entry)\n",
    "                 \n",
    "    reset = 0\n",
    "```"
   ]
  },
  {
   "cell_type": "markdown",
   "id": "collected-junior",
   "metadata": {},
   "source": [
    "`-` π나 e를 입력할 수 있다 "
   ]
  },
  {
   "cell_type": "markdown",
   "id": "discrete-conjunction",
   "metadata": {},
   "source": [
    "## square_button_click"
   ]
  },
  {
   "cell_type": "markdown",
   "id": "academic-print",
   "metadata": {},
   "source": [
    "```python\n",
    "## 제곱\n",
    "def square_button_click():\n",
    "    global reset\n",
    "    \n",
    "    current_entry = entry.get()\n",
    "    new_entry = current_entry + '^2'\n",
    "    \n",
    "    if reset == 1 or reset == 2 or current_entry == '':\n",
    "        entry.delete(0, 'end')\n",
    "    \n",
    "    else:\n",
    "        last = current_entry[-1]\n",
    "        \n",
    "        if last != '+' and last != '-' and last != '×' and last != '÷' and last != '(':\n",
    "            entry.delete(0, 'end')\n",
    "            entry.insert(0, new_entry)\n",
    "                 \n",
    "    reset = 0    \n",
    "```"
   ]
  },
  {
   "cell_type": "markdown",
   "id": "prostate-spirituality",
   "metadata": {},
   "source": [
    "`-` 제곱 연산을 할 수 있다"
   ]
  },
  {
   "cell_type": "markdown",
   "id": "collaborative-garage",
   "metadata": {},
   "source": [
    "## square_root_button_click\n",
    "```python\n",
    "## 제곱근(√)\n",
    "def square_root_button_click():\n",
    "    global reset\n",
    "    \n",
    "    current_entry = entry.get()\n",
    "    new_entry = current_entry + '√('\n",
    "    \n",
    "    if reset == 1 or reset == 2 or current_entry == '':\n",
    "        entry.delete(0, 'end')\n",
    "        entry.insert(0, '√(')\n",
    "        \n",
    "    else:\n",
    "        last = current_entry[-1]\n",
    "        \n",
    "        if last == '+' or last == '-' or last == '×' or last == '÷' or last == '(':\n",
    "            entry.delete(0, 'end')\n",
    "            entry.insert(0, new_entry)\n",
    "    \n",
    "    reset = 0\n",
    "    \n",
    "```"
   ]
  },
  {
   "cell_type": "markdown",
   "id": "sacred-shade",
   "metadata": {},
   "source": [
    "`-` 제곱근 연산을 할 수 있다"
   ]
  },
  {
   "cell_type": "markdown",
   "id": "permanent-lafayette",
   "metadata": {},
   "source": [
    "## log_e_button_click\n",
    "```python\n",
    "## 자연로그\n",
    "\n",
    "def log_e_button_click():\n",
    "    global reset\n",
    "    \n",
    "    current_entry = entry.get()\n",
    "    new_entry = current_entry + 'ln('\n",
    "    \n",
    "    if reset == 1 or reset == 2 or current_entry == '':\n",
    "        entry.delete(0, 'end')\n",
    "        entry.insert(0, 'ln(')\n",
    "        \n",
    "    else:\n",
    "        last = current_entry[-1]\n",
    "        \n",
    "        if last == '+' or last == '-' or last == '×' or last == '÷' or last == '(':\n",
    "            entry.delete(0, 'end')\n",
    "            entry.insert(0, new_entry)\n",
    "    \n",
    "    reset = 0    \n",
    "```    "
   ]
  },
  {
   "cell_type": "markdown",
   "id": "valid-deviation",
   "metadata": {},
   "source": [
    "`-` 자연로그 연산을 할 수 있다"
   ]
  },
  {
   "cell_type": "code",
   "execution_count": null,
   "id": "middle-christmas",
   "metadata": {},
   "outputs": [],
   "source": []
  }
 ],
 "metadata": {
  "kernelspec": {
   "display_name": "Python 3",
   "language": "python",
   "name": "python3"
  },
  "language_info": {
   "codemirror_mode": {
    "name": "ipython",
    "version": 3
   },
   "file_extension": ".py",
   "mimetype": "text/x-python",
   "name": "python",
   "nbconvert_exporter": "python",
   "pygments_lexer": "ipython3",
   "version": "3.8.8"
  }
 },
 "nbformat": 4,
 "nbformat_minor": 5
}

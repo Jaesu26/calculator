{
 "cells": [
  {
   "cell_type": "markdown",
   "id": "fluid-notion",
   "metadata": {},
   "source": [
    "# 파이썬 tkinter\n",
    "\n",
    "> \"작성 중\"\n",
    "\n",
    "- toc: true\n",
    "- branch: master\n",
    "- badges: true\n",
    "- comments: true\n",
    "- author: 한재수\n",
    "- categories: [python]"
   ]
  },
  {
   "cell_type": "markdown",
   "id": "received-calvin",
   "metadata": {},
   "source": [
    "`-` 파이썬 tkinter 참고: [https://076923.github.io/posts/Python-tkinter-1/](https://076923.github.io/posts/Python-tkinter-1/)"
   ]
  },
  {
   "cell_type": "markdown",
   "id": "compatible-illness",
   "metadata": {},
   "source": [
    "# tkinter "
   ]
  },
  {
   "cell_type": "markdown",
   "id": "disturbed-longer",
   "metadata": {},
   "source": [
    "`-` GUI에 대한 표준 Python 인터페이스이며 Window 창을 생성"
   ]
  },
  {
   "cell_type": "markdown",
   "id": "substantial-picture",
   "metadata": {},
   "source": [
    "- GUI가 뭐지??"
   ]
  },
  {
   "cell_type": "markdown",
   "id": "agricultural-julian",
   "metadata": {},
   "source": [
    "`-` 그래픽 사용자 인터페이스(graphical user interface, GUI)는 사용자가 편리하게 사용할 수 있도록 입출력 등의 기능을 알기 쉬운 아이콘 따위의 그래픽으로 나타낸 것"
   ]
  },
  {
   "cell_type": "markdown",
   "id": "ethical-wedding",
   "metadata": {},
   "source": [
    "`-` GUI 참고: [GUI 설명](https://ko.wikipedia.org/wiki/%EA%B7%B8%EB%9E%98%ED%94%BD_%EC%82%AC%EC%9A%A9%EC%9E%90_%EC%9D%B8%ED%84%B0%ED%8E%98%EC%9D%B4%EC%8A%A4)"
   ]
  },
  {
   "cell_type": "code",
   "execution_count": null,
   "id": "russian-steal",
   "metadata": {},
   "outputs": [],
   "source": []
  }
 ],
 "metadata": {
  "kernelspec": {
   "display_name": "Python 3",
   "language": "python",
   "name": "python3"
  },
  "language_info": {
   "codemirror_mode": {
    "name": "ipython",
    "version": 3
   },
   "file_extension": ".py",
   "mimetype": "text/x-python",
   "name": "python",
   "nbconvert_exporter": "python",
   "pygments_lexer": "ipython3",
   "version": "3.8.8"
  }
 },
 "nbformat": 4,
 "nbformat_minor": 5
}

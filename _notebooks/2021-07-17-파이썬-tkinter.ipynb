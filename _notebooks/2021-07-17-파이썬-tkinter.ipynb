{
 "cells": [
  {
   "cell_type": "markdown",
   "id": "bright-equipment",
   "metadata": {},
   "source": [
    "# 파이썬 tkinter\n",
    "\n",
    "> \"작성 완료\"\n",
    "\n",
    "- toc: true\n",
    "- branch: master\n",
    "- badges: true\n",
    "- comments: true\n",
    "- author: 한재수\n",
    "- categories: [python]"
   ]
  },
  {
   "cell_type": "markdown",
   "id": "express-logan",
   "metadata": {},
   "source": [
    "`-` 파이썬 tkinter 참고: [https://076923.github.io/posts/Python-tkinter-1/](https://076923.github.io/posts/Python-tkinter-1/)\n",
    "\n",
    "`-` 위의 사이트를 참고하면서 계산기를 구현하자"
   ]
  },
  {
   "cell_type": "markdown",
   "id": "curious-recipient",
   "metadata": {},
   "source": [
    "# tkinter "
   ]
  },
  {
   "cell_type": "markdown",
   "id": "massive-clark",
   "metadata": {},
   "source": [
    "`-` GUI에 대한 표준 Python 인터페이스이며 Window 창을 생성\n",
    "\n",
    "`-` `import tkinter as tk`"
   ]
  },
  {
   "cell_type": "markdown",
   "id": "under-merchant",
   "metadata": {},
   "source": [
    "- GUI가 뭐지??"
   ]
  },
  {
   "cell_type": "markdown",
   "id": "continental-anxiety",
   "metadata": {},
   "source": [
    "`-` 그래픽 사용자 인터페이스(graphical user interface, GUI)는 사용자가 편리하게 사용할 수 있도록 입출력 등의 기능을 알기 쉬운 아이콘 따위의 그래픽으로 나타낸 것"
   ]
  },
  {
   "cell_type": "markdown",
   "id": "intimate-barbados",
   "metadata": {},
   "source": [
    "`-` GUI 참고: [GUI 설명](https://ko.wikipedia.org/wiki/%EA%B7%B8%EB%9E%98%ED%94%BD_%EC%82%AC%EC%9A%A9%EC%9E%90_%EC%9D%B8%ED%84%B0%ED%8E%98%EC%9D%B4%EC%8A%A4)"
   ]
  },
  {
   "cell_type": "markdown",
   "id": "constitutional-proposal",
   "metadata": {},
   "source": [
    "## tkinter 사용 "
   ]
  },
  {
   "cell_type": "markdown",
   "id": "behavioral-tradition",
   "metadata": {},
   "source": [
    "`-` `윈도우이름 = tk.Tk()`를 이용하여 가장 상위 레벨의 윈도우 창을 생성\n",
    "\n",
    "`-` `윈도우이름.mainloop()`를 사용하여 `윈도우이름`의 윈도우 창을 `윈도우가 종료될 때 까지 실행`\n",
    "\n",
    "`-` `생성 구문`과 `반복 구문` 사이에 `위젯`을 생성하고 적용\n",
    "\n",
    "`-` `tk.Tk()`를 적용할 경우 가장 기본적인 `윈도우 창이 생성`"
   ]
  },
  {
   "cell_type": "markdown",
   "id": "unlikely-cuisine",
   "metadata": {},
   "source": [
    "## window 창 설정 "
   ]
  },
  {
   "cell_type": "markdown",
   "id": "familiar-spending",
   "metadata": {},
   "source": [
    "`-` `윈도우이름.title(\"제목\")`을 이용하여 `윈도우 창의 제목`을 설정\n",
    "\n",
    "`-` `윈도우이름.geometry(\"너비x높이+x좌표+y좌표\")`를 이용하여 `윈도우 창`의 `너비와 높이`, 초기 화면 위치의 `x좌표와 y좌표`를 설정\n",
    "\n",
    "`-` `(0,0)은 컴퓨터의 좌상단`\n",
    "\n",
    "`-` `윈도우이름.resizeable(상하, 좌우)`을 이용하여 `윈도우 창`의 `창 크기 조절 가능 여부`를 설정 --> True로 설정할 경우 윈도우 창의 크기를 조절 가능(True = 1, False = 0)"
   ]
  },
  {
   "cell_type": "markdown",
   "id": "passive-begin",
   "metadata": {},
   "source": [
    "## Widget 배치\n",
    "`-` `위젯이름 = tkinter.Label(윈도우창, text=\"내용\")`을 사용하여 `윈도우 창`에 `Label 위젯`을 설정 --> 기본 속성: 가장 최상단에 라벨이 배치\n",
    "\n",
    "`-` `위젯이름.pack()`을 사용하여 `위젯을 배치`"
   ]
  },
  {
   "cell_type": "markdown",
   "id": "valuable-object",
   "metadata": {},
   "source": [
    "```python\n",
    "import tkinter\n",
    "\n",
    "window = tkinter.Tk()\n",
    "\n",
    "window.title(\"HAN JAE SU\")\n",
    "window.geometry('350x500+800+200')\n",
    "window.resizable(False, False)\n",
    "\n",
    "label = tkinter.Label(window, text = \"안녕하세요.\")\n",
    "label.pack()\n",
    "\n",
    "window.mainloop()\n",
    "```"
   ]
  },
  {
   "cell_type": "markdown",
   "id": "important-description",
   "metadata": {},
   "source": [
    "`-` 기본 윈도우 창 생성 -> window\n",
    "\n",
    "`-` window의 제목, 크기, 창 크기 조절\n",
    "\n",
    "`-` 라벨도 추가했음 --> \"안녕하세요\"라는 문자열을 window 상단 중앙부분(기본값)에 위치시킴"
   ]
  },
  {
   "cell_type": "markdown",
   "id": "faced-austin",
   "metadata": {},
   "source": [
    "## Label(라벨)\n",
    "`-` `Label`을 이용하여 삽입한 이미지나 도표, 그림 등에 사용되는 `주석문`을 생성"
   ]
  },
  {
   "cell_type": "markdown",
   "id": "critical-architect",
   "metadata": {},
   "source": [
    "### Label 사용"
   ]
  },
  {
   "cell_type": "markdown",
   "id": "seeing-extent",
   "metadata": {},
   "source": [
    "```python\n",
    "import tkinter\n",
    "\n",
    "window = tkinter.Tk()\n",
    "window.title(\"HAN JAE SU\")\n",
    "window.geometry('350x500+800+200')\n",
    "window.resizable(False, False)\n",
    "\n",
    "label = tkinter.Label(window, text = \"파이썬\", width = 10, height = 5, fg = \"red\", relief = \"solid\")\n",
    "label.pack()\n",
    "\n",
    "window.mainloop()\n",
    "```"
   ]
  },
  {
   "cell_type": "markdown",
   "id": "creative-calcium",
   "metadata": {},
   "source": [
    "`-` `tkinter.Label(윈도우 창, 파라미터1, 파라미터2, 파라미터3, ...)`을 사용하여 해당 `윈도우 창`에 표시할 `라벨의 속성`을 설정\n",
    "\n",
    "`-` window에 라벨 추가 --> \"파이썬\" 문자열을 넣고 가로는 10, 세로는5, 문자열 색은 \"red\", 라벨의 테두리 모양은 \"solid\""
   ]
  },
  {
   "cell_type": "markdown",
   "id": "beautiful-march",
   "metadata": {},
   "source": [
    "## Button(버튼) \n",
    "`-` `Button`을 이용하여 `메소드` 또는 `함수` 등을 실행시키기 위한 `단추`를 생성"
   ]
  },
  {
   "cell_type": "markdown",
   "id": "necessary-chuck",
   "metadata": {},
   "source": [
    "### Button 사용"
   ]
  },
  {
   "cell_type": "markdown",
   "id": "square-glasgow",
   "metadata": {},
   "source": [
    "```python\n",
    "import tkinter\n",
    "\n",
    "window = tkinter.Tk()\n",
    "window.title(\"HAN JAE SU\")\n",
    "window.geometry('350x500+800+200')\n",
    "window.resizable(False, False)\n",
    "\n",
    "count=0\n",
    "\n",
    "def countUP():\n",
    "    global count\n",
    "    count += 1\n",
    "    label.config(text = str(count))\n",
    "\n",
    "label = tkinter.Label(window, text = \"0\")\n",
    "label.pack()\n",
    "\n",
    "button = tkinter.Button(window, overrelief = \"solid\", width = 15, command = countUP, repeatdelay = 1000, repeatinterval = 100)\n",
    "button.pack()\n",
    "\n",
    "window.mainloop()\n",
    "```"
   ]
  },
  {
   "cell_type": "markdown",
   "id": "consecutive-water",
   "metadata": {},
   "source": [
    "`-` `tkinter.Button(윈도우 창, 파라미터1, 파라미터2, 파라미터3, ...)`을 사용하여 해당 `윈도우 창`에 표시할 `버튼의 속성`을 설정\n",
    "\n",
    "`-` 파라미터 중 `command`를 이용하여 `사용자 정의 함수 : countUP`을 실행"
   ]
  },
  {
   "cell_type": "markdown",
   "id": "honest-pioneer",
   "metadata": {},
   "source": [
    "`-` `label.config()`를 통해 `label`의 `text`라는 `속성을 변화`시킴"
   ]
  },
  {
   "cell_type": "markdown",
   "id": "biological-unemployment",
   "metadata": {},
   "source": [
    "## Entry(기입창)\n",
    "`-` `Entry`을 이용하여 텍스트를 `입력`받거나 `출력`하기 위한 `기입창`을 생성"
   ]
  },
  {
   "cell_type": "markdown",
   "id": "emotional-combining",
   "metadata": {},
   "source": [
    "### Entry 사용"
   ]
  },
  {
   "cell_type": "markdown",
   "id": "exposed-entrance",
   "metadata": {},
   "source": [
    "```python\n",
    "import tkinter\n",
    "from math import *\n",
    "\n",
    "window = tkinter.Tk()\n",
    "window.title(\"HAN JAE SU\")\n",
    "window.geometry('350x500+800+200')\n",
    "window.resizable(False, False)\n",
    "\n",
    "def calc(event):\n",
    "    label.config(text = \"결과=\" + str(eval(entry.get())))\n",
    "\n",
    "entry = tkinter.Entry(window)\n",
    "entry.bind(\"<Return>\", calc)\n",
    "entry.pack()\n",
    "\n",
    "label = tkinter.Label(window)\n",
    "label.pack()\n",
    "\n",
    "window.mainloop()\n",
    "```"
   ]
  },
  {
   "cell_type": "markdown",
   "id": "alternative-theater",
   "metadata": {},
   "source": [
    "`-` `tkinter.Entry(윈도우 창, 파라미터1, 파라미터2, 파라미터3, ...)`을 사용하여 해당 `윈도우 창`에 표시할 `기입창의 속성`을 설정\n",
    "\n",
    "`-` `Entry.bind()`를 이용하여 `key`나 `mouse` 등의 `event`를 처리하여 `메소드`나 `함수`를 실행\n",
    "\n",
    "`-` `기입창`에 간단한 `수학함수` 등을 작성 후 `Enter 키`를 입력시 `라벨`에 결과가 표시\n",
    "\n",
    "`-` ex) 2 + 2 입력시 결과 = 4가 반환 "
   ]
  },
  {
   "cell_type": "markdown",
   "id": "gothic-parent",
   "metadata": {},
   "source": [
    "## 위젯 배치(pack)\n",
    "`-` `pack(=상대 위치 배치)`을 이용하여 `위젯`들을 `배치`"
   ]
  },
  {
   "cell_type": "markdown",
   "id": "terminal-trance",
   "metadata": {},
   "source": [
    "`-` `위젯이름.pack(파라미터1, 파라미터2, 파라미터3, ...)`을 사용하여 해당 `윈도우 창`에 표시할 `위젯의 배치 속성`을 설정\n",
    "\n",
    "`-` 배치되는 우선 순위는 `가장 처음 선언한 pack`부터 `배치`\n",
    "\n",
    "`-` `pack`의 `파라미터`로 인하여 `위젯의 크기`가 `변경`될 수 있음\n",
    "\n",
    "`-` `pack()`은 `grid()`와 `같이 사용될 수 없으며` `place()`와는 `같이 사용 가능`"
   ]
  },
  {
   "cell_type": "markdown",
   "id": "unlikely-breeding",
   "metadata": {},
   "source": [
    "```python\n",
    "import tkinter\n",
    "\n",
    "window = tkinter.Tk()\n",
    "window.title(\"HAN JAE SU\")\n",
    "window.geometry(\"350x500+800+200\")\n",
    "window.resizable(False, False)\n",
    "\n",
    "b1 = tkinter.Button(window, text = \"top\")\n",
    "b1_1 = tkinter.Button(window, text = \"top-1\")\n",
    "\n",
    "b2 = tkinter.Button(window, text = \"bottom\")\n",
    "b2_1 = tkinter.Button(window, text = \"bottom-1\")\n",
    "\n",
    "b3 = tkinter.Button(window, text = \"left\")\n",
    "b3_1 = tkinter.Button(window, text = \"left-1\")\n",
    "\n",
    "b4 = tkinter.Button(window, text = \"right\")\n",
    "b4_1 = tkinter.Button(window, text = \"right-1\")\n",
    "\n",
    "b5 = tkinter.Button(window, text = \"center\", bg = \"red\")\n",
    "\n",
    "b1.pack(side = \"top\")\n",
    "b1_1.pack(side = \"top\", fill = \"x\")\n",
    "\n",
    "b2.pack(side = \"bottom\")\n",
    "b2_1.pack(side = \"bottom\", anchor = \"e\")\n",
    "\n",
    "b3.pack(side = \"left\")\n",
    "b3_1.pack(side = \"left\", fill = \"y\")\n",
    "\n",
    "b4.pack(side = \"right\")\n",
    "b4_1.pack(side = \"right\", anchor = \"s\")\n",
    "\n",
    "b5.pack(expand = True, fill = \"both\")\n",
    "\n",
    "window.mainloop()\n",
    "```"
   ]
  },
  {
   "cell_type": "markdown",
   "id": "stretch-relevance",
   "metadata": {},
   "source": [
    "### pack Parameter"
   ]
  },
  {
   "cell_type": "markdown",
   "id": "silver-today",
   "metadata": {},
   "source": [
    "`-` `side` ---> 해당 구역으로 위젯을 `이동(상하좌우)` \n",
    "\n",
    "`-` `anchor` ---> `현재 배치된 구역` 안에서 `특정 위치(동서남북)`로 이동 \n",
    "\n",
    "`-` `fill` ---> 할당된 공간에 맞게 `크기가 변경` \n",
    "\n",
    "`-` `expand` ---> 할당되지 않은 `미사용 공간`을 모두 `현재 위젯의 할당된 공간으로 변경`"
   ]
  },
  {
   "cell_type": "markdown",
   "id": "derived-beach",
   "metadata": {},
   "source": [
    "## 위젯 배치(grid)\n",
    "`-` `grid(=셀 단위 배치)`를 이용하여 `위젯`들을 `배치`"
   ]
  },
  {
   "cell_type": "markdown",
   "id": "material-transformation",
   "metadata": {},
   "source": [
    "`-` `위젯이름.pack(파라미터1, 파라미터2, 파라미터3, ...)`을 사용하여 해당 `윈도우 창`에 표시할 `위젯의 배치 속성`을 설정\n",
    "\n",
    "`-` 배치되는 우선 순위는 `가장 처음 선언한 grid`부터 `배치`\n",
    "\n",
    "`-` `grid`의 `셀 단위`로 배치되며 `한 번에 여러 셀`을 건너뛰어 `배치` 가능\n",
    "\n",
    "`-` `grid()`는 `pack()`과 `같이 사용될 수 없으며` `place()`와는 `같이 사용 가능`\n",
    "\n",
    "`-` `Tip` ---> `column`을 `99`로 위치시키더라도 그 전 `grid 배치`에서 `최대 column의 값`이 `3`이 었으므로 `자동적으로 4`로 할당"
   ]
  },
  {
   "cell_type": "markdown",
   "id": "passing-burning",
   "metadata": {},
   "source": [
    "```python\n",
    "import tkinter\n",
    "\n",
    "window = tkinter.Tk()\n",
    "window.title(\"HAN JEA SU\")\n",
    "window.geometry(\"350x500+800+200\")\n",
    "window.resizable(False, False)\n",
    "\n",
    "b1 = tkinter.Button(window, text = \"(0, 0)\")\n",
    "b2 = tkinter.Button(window, text = \"(0, 1)\", width = 20)\n",
    "b3 = tkinter.Button(window, text = \"(0, 2)\")\n",
    "\n",
    "b4 = tkinter.Button(window, text = \"(1, 0)\")\n",
    "b5 = tkinter.Button(window, text = \"(1, 1)\")\n",
    "b6 = tkinter.Button(window, text = \"(1, 3)\")\n",
    "\n",
    "b7 = tkinter.Button(window, text = \"(2, 1)\")\n",
    "b8 = tkinter.Button(window, text = \"(2, 2)\")\n",
    "b9 = tkinter.Button(window, text = \"(2, 4)\")\n",
    "\n",
    "b1.grid(row = 0, column = 0)\n",
    "b2.grid(row = 0, column = 1)\n",
    "b3.grid(row = 0, column = 2)\n",
    "\n",
    "b4.grid(row = 1, column = 0, rowspan = 2)\n",
    "b5.grid(row = 1, column = 1, columnspan = 3)\n",
    "b6.grid(row = 1, column = 3)\n",
    "\n",
    "b7.grid(row = 2, column = 1, sticky = \"w\")\n",
    "b8.grid(row = 2, column = 2)\n",
    "b9.grid(row = 2 , column = 99)\n",
    "\n",
    "window.mainloop()\n",
    "```"
   ]
  },
  {
   "cell_type": "markdown",
   "id": "loaded-victim",
   "metadata": {},
   "source": [
    "## 매개변수 전달 \n",
    "`-` `tkinter`의 `command`에 매개변수를 전달 가능\n",
    "\n",
    "`-` `lambda 함수`를 사용해 함수에 여러 매개변수를 전달 "
   ]
  },
  {
   "cell_type": "markdown",
   "id": "informed-constant",
   "metadata": {},
   "source": [
    "```python\n",
    "import tkinter\n",
    "\n",
    "window = tkinter.Tk()\n",
    "window.title(\"HAN JEA SU\")\n",
    "window.geometry(\"350x500+800+200\")\n",
    "window.resizable(True, True)\n",
    "\n",
    "def command_args(argument1, argument2, argument3):\n",
    "    global arg1\n",
    "    arg1 = argument1 * 2\n",
    "    print(argument1, argument2, argument3)\n",
    "\n",
    "arg1 = 1\n",
    "arg2 = \"alpha\"\n",
    "arg3 = \"beta\"\n",
    "\n",
    "button = tkinter.Button(window, width = 25, height = 10, text = \"버튼\", command = lambda: command_args(arg1, arg2, arg3))\n",
    "button.pack(expand = True, anchor = \"center\")\n",
    "\n",
    "window.mainloop()\n",
    "```"
   ]
  },
  {
   "cell_type": "markdown",
   "id": "ethical-terror",
   "metadata": {},
   "source": [
    "## Frame(프레임) \n",
    "`-` `Frame`을 이용하여 `다른 위젯들을 포함`하기 위한 `프레임`을 생성"
   ]
  },
  {
   "cell_type": "markdown",
   "id": "underlying-kuwait",
   "metadata": {},
   "source": [
    "`-` `tkinter.Frame(윈도우 창, 파라미터1, 파라미터2, 파라미터3, ...)`을 사용하여 해당 `윈도우 창`에 표시할 `프레임의 속성`을 설정 \n",
    "\n",
    "`-` `파라미터`를 사용하여 `프레임의 속성`을 설정 \n",
    "\n",
    "`-` 위젯의 파라미터 중 `윈도우 창`에서 `프레임 이름`을 이용하여 `해당 프레임`에 `위젯`을 `포함` 가능"
   ]
  },
  {
   "cell_type": "markdown",
   "id": "enclosed-boost",
   "metadata": {},
   "source": [
    "```python\n",
    "import tkinter\n",
    "\n",
    "window = tkinter.Tk()\n",
    "window.title(\"HAN JAE SU\")\n",
    "window.geometry('350x500+800+200')\n",
    "window.resizable(False, False)\n",
    "\n",
    "frame1 = tkinter.Frame(window, relief = \"solid\", bd = 2)\n",
    "frame1.pack(side = \"left\", fill = \"both\", expand = True)\n",
    "\n",
    "frame2 = tkinter.Frame(window, relief = \"solid\", bd = 2)\n",
    "frame2.pack(side = \"right\", fill = \"both\", expand = True)\n",
    "\n",
    "button1 = tkinter.Button(frame1, text = \"프레임1\")\n",
    "button1.pack(side = \"right\")\n",
    "\n",
    "button2 = tkinter.Button(frame2, text = \"프레임2\")\n",
    "button2.pack(side = \"left\")\n",
    "\n",
    "window.mainloop()\n",
    "```"
   ]
  },
  {
   "cell_type": "markdown",
   "id": "micro-violation",
   "metadata": {},
   "source": [
    "## Font(글꼴)\n",
    "`-` `Font`를 이용하여 위젯들의 문자열에 `글꼴`을 설정"
   ]
  },
  {
   "cell_type": "markdown",
   "id": "acquired-bottom",
   "metadata": {},
   "source": [
    "`-` `tkinter.font.Font(파라미터1, 파라미터2, 파라미터3, ...)`을 사용하여 `위젯`에 표시할 `글꼴`을 설정 \n",
    "\n",
    "`-` `파라미터`를 사용하여 `글꼴`를 설정 \n",
    "\n",
    "`-` `글꼴`을 `적용`할 `위젯의 font 파라미터`에 사용 "
   ]
  },
  {
   "cell_type": "markdown",
   "id": "suited-shelter",
   "metadata": {},
   "source": [
    "```python\n",
    "import tkinter\n",
    "import tkinter.font\n",
    "\n",
    "window = tkinter.Tk()\n",
    "window.title(\"HAN JAE SU\")\n",
    "window.geometry('350x500+800+200')\n",
    "window.resizable(True, True)\n",
    "\n",
    "font = tkinter.font.Font(family = \"맑은고딕\", size = 20, weight = 'bold')\n",
    "\n",
    "label = tkinter.Label(window, text = \"파이썬 3.6\", font = font)\n",
    "label.pack()\n",
    "\n",
    "window.mainloop()\n",
    "```"
   ]
  },
  {
   "cell_type": "markdown",
   "id": "expanded-chapter",
   "metadata": {},
   "source": [
    "## Bind(이벤트 실행)\n",
    "`-` `Bind`를 이용하여 위젯들의 `이벤트`와 실행할 `함수`를 설정 "
   ]
  },
  {
   "cell_type": "markdown",
   "id": "fossil-surrey",
   "metadata": {},
   "source": [
    "`-` `위젯.Bind(\"이벤트\", 함수)`를 사용하여 `위젯`의 `이벤트`가 작동할 때 실행할 `함수`를 설정 \n",
    "\n",
    "`-` `Bind`를 `중복`해서 사용하여도 `모두 적용`\n",
    "\n",
    "`-` `event.delta`를 이용하여 `마우스 휠`의 `delta값`을 확인 \n",
    "\n",
    "`-` `event.delta`의 값이 `120`일 경우 `업 스크롤`이며 `-120`일 경우 `다운 스크롤`"
   ]
  },
  {
   "cell_type": "markdown",
   "id": "active-dylan",
   "metadata": {},
   "source": [
    "```python\n",
    "import tkinter\n",
    "\n",
    "window = tkinter.Tk()\n",
    "window.title(\"HAN JAE SU\")\n",
    "window.geometry('350x500+800+200')\n",
    "window.resizable(True, True)\n",
    "\n",
    "width = 1\n",
    "\n",
    "def drawing(event):\n",
    "    if width > 0:\n",
    "        x1 = event.x-1\n",
    "        y1 = event.y-1\n",
    "        x2 = event.x+1\n",
    "        y2 = event.y+1\n",
    "        canvas.create_oval(x1, y1, x2, y2, fill = \"blue\", width = width)\n",
    "\n",
    "def scroll(event):\n",
    "    global width\n",
    "    if event.delta == 120:\n",
    "        width += 1\n",
    "    if event.delta == -120:\n",
    "        width -= 1\n",
    "    label.config(text = str(width))\n",
    "\n",
    "canvas = tkinter.Canvas(window, relief = \"solid\", bd = 2)\n",
    "canvas.pack(expand = True, fill = \"both\")\n",
    "canvas.bind(\"<B1-Motion>\", drawing)\n",
    "canvas.bind(\"<MouseWheel>\", scroll)\n",
    "\n",
    "label = tkinter.Label(window, text = str(width))\n",
    "label.pack()\n",
    "\n",
    "window.mainloop()\n",
    "```"
   ]
  },
  {
   "cell_type": "code",
   "execution_count": null,
   "id": "floppy-bacteria",
   "metadata": {},
   "outputs": [],
   "source": []
  }
 ],
 "metadata": {
  "kernelspec": {
   "display_name": "Python 3",
   "language": "python",
   "name": "python3"
  },
  "language_info": {
   "codemirror_mode": {
    "name": "ipython",
    "version": 3
   },
   "file_extension": ".py",
   "mimetype": "text/x-python",
   "name": "python",
   "nbconvert_exporter": "python",
   "pygments_lexer": "ipython3",
   "version": "3.8.8"
  }
 },
 "nbformat": 4,
 "nbformat_minor": 5
}

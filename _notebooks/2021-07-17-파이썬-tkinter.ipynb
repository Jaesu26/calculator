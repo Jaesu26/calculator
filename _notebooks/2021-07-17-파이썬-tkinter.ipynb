{
 "cells": [
  {
   "cell_type": "markdown",
   "id": "educated-lingerie",
   "metadata": {},
   "source": [
    "# 파이썬 tkinter\n",
    "\n",
    "> \"작성 중\"\n",
    "\n",
    "- toc: true\n",
    "- branch: master\n",
    "- badges: true\n",
    "- comments: true\n",
    "- author: 한재수\n",
    "- categories: [python]"
   ]
  },
  {
   "cell_type": "markdown",
   "id": "acknowledged-excess",
   "metadata": {},
   "source": [
    "`-` 파이썬 tkinter 출처: [https://076923.github.io/posts/Python-tkinter-1/](https://076923.github.io/posts/Python-tkinter-1/)\n",
    "\n",
    "`-` 위의 사이트를 참고하면서 계산기를 구현하자"
   ]
  },
  {
   "cell_type": "markdown",
   "id": "medium-updating",
   "metadata": {},
   "source": [
    "# tkinter "
   ]
  },
  {
   "cell_type": "markdown",
   "id": "minus-emphasis",
   "metadata": {},
   "source": [
    "`-` GUI에 대한 표준 Python 인터페이스이며 Window 창을 생성\n",
    "\n",
    "`-` `import tkinter as tk`"
   ]
  },
  {
   "cell_type": "markdown",
   "id": "upper-infection",
   "metadata": {},
   "source": [
    "- GUI가 뭐지??"
   ]
  },
  {
   "cell_type": "markdown",
   "id": "oriental-punishment",
   "metadata": {},
   "source": [
    "`-` 그래픽 사용자 인터페이스(graphical user interface, GUI)는 사용자가 편리하게 사용할 수 있도록 입출력 등의 기능을 알기 쉬운 아이콘 따위의 그래픽으로 나타낸 것"
   ]
  },
  {
   "cell_type": "markdown",
   "id": "yellow-symphony",
   "metadata": {},
   "source": [
    "`-` GUI 참고: [GUI 설명](https://ko.wikipedia.org/wiki/%EA%B7%B8%EB%9E%98%ED%94%BD_%EC%82%AC%EC%9A%A9%EC%9E%90_%EC%9D%B8%ED%84%B0%ED%8E%98%EC%9D%B4%EC%8A%A4)"
   ]
  },
  {
   "cell_type": "markdown",
   "id": "searching-representative",
   "metadata": {},
   "source": [
    "## tkinter 사용 "
   ]
  },
  {
   "cell_type": "markdown",
   "id": "narrow-element",
   "metadata": {},
   "source": [
    "`-` `윈도우이름 = tk.Tk()`를 이용하여 가장 상위 레벨의 윈도우 창을 생성\n",
    "\n",
    "`-` `윈도우이름.mainloop()`를 사용하여 `윈도우이름`의 윈도우 창을 `윈도우가 종료될 때 까지 실행`\n",
    "\n",
    "`-` `생성 구문`과 `반복 구문` 사이에 `위젯`을 생성하고 적용\n",
    "\n",
    "`-` `tk.Tk()`를 적용할 경우 가장 기본적인 `윈도우 창이 생성`"
   ]
  },
  {
   "cell_type": "markdown",
   "id": "democratic-pixel",
   "metadata": {},
   "source": [
    "## window 창 설정 "
   ]
  },
  {
   "cell_type": "markdown",
   "id": "experienced-kingston",
   "metadata": {},
   "source": [
    "`-` `윈도우이름.title(\"제목\")`을 이용하여 `윈도우 창의 제목`을 설정\n",
    "\n",
    "`-` `윈도우이름.geometry(\"너비x높이+x좌표+y좌표\")`를 이용하여 `윈도우 창`의 `너비와 높이`, 초기 화면 위치의 `x좌표와 y좌표`를 설정\n",
    "\n",
    "`-` `(0,0)은 컴퓨터의 좌상단`\n",
    "\n",
    "`-` `윈도우이름.resizeable(상하, 좌우)`을 이용하여 `윈도우 창`의 `창 크기 조절 가능 여부`를 설정 --> True로 설정할 경우 윈도우 창의 크기를 조절 가능(True = 1, False = 0)"
   ]
  },
  {
   "cell_type": "markdown",
   "id": "fixed-wilson",
   "metadata": {},
   "source": [
    "## Widget 배치\n",
    "`-` `위젯이름=tkinter.Label(윈도우창, text=\"내용\")`을 사용하여 `윈도우 창`에 `Label 위젯`을 설정 --> 기본 속성: 가장 최상단에 라벨이 배치\n",
    "\n",
    "`-` `위젯이름.pack()`을 사용하여 `위젯을 배치`"
   ]
  },
  {
   "cell_type": "markdown",
   "id": "brave-qualification",
   "metadata": {},
   "source": [
    "```python\n",
    "import tkinter\n",
    "\n",
    "window=tkinter.Tk()\n",
    "\n",
    "window.title(\"YUN DAE HEE\")\n",
    "window.geometry(\"640x400+100+100\")\n",
    "window.resizable(False, False)\n",
    "\n",
    "label=tkinter.Label(window, text=\"안녕하세요.\")\n",
    "label.pack()\n",
    "\n",
    "window.mainloop()\n",
    "```"
   ]
  },
  {
   "cell_type": "markdown",
   "id": "rocky-packet",
   "metadata": {},
   "source": [
    "`-` 기본 윈도우 창 생성 -> window\n",
    "\n",
    "`-` window의 제목, 크기, 창 크기 조절\n",
    "\n",
    "`-` 라벨도 추가했음 --> \"안녕하세요\"라는 문자열을 window 상단 중앙부분(기본값)에 위치시킴"
   ]
  },
  {
   "cell_type": "markdown",
   "id": "mature-process",
   "metadata": {},
   "source": [
    "## Label(라벨)\n",
    "`-` `Label`을 이용하여 삽입한 이미지나 도표, 그림 등에 사용되는 `주석문`을 생성"
   ]
  },
  {
   "cell_type": "markdown",
   "id": "southwest-latest",
   "metadata": {},
   "source": [
    "### Label 사용"
   ]
  },
  {
   "cell_type": "markdown",
   "id": "metallic-nickname",
   "metadata": {},
   "source": [
    "```python\n",
    "import tkinter\n",
    "\n",
    "window=tkinter.Tk()\n",
    "window.title(\"YUN DAE HEE\")\n",
    "window.geometry(\"640x400+100+100\")\n",
    "window.resizable(False, False)\n",
    "\n",
    "label=tkinter.Label(window, text=\"파이썬\", width=10, height=5, fg=\"red\", relief=\"solid\")\n",
    "label.pack()\n",
    "\n",
    "window.mainloop()\n",
    "```"
   ]
  },
  {
   "cell_type": "markdown",
   "id": "apart-space",
   "metadata": {},
   "source": [
    "`-` `tkinter.Label(윈도우 창, 파라미터1, 파라미터2, 파라미터3, ...)`을 사용하여 해당 `윈도우 창`에 표시할 `라벨의 속성`을 설정\n",
    "\n",
    "`-` window에 라벨 추가 --> \"파이썬\" 문자열을 넣고 가로는 10, 세로는5, 문자열 색은 \"red\", 라벨의 테두리 모양은 \"solid\""
   ]
  },
  {
   "cell_type": "markdown",
   "id": "accepted-robert",
   "metadata": {},
   "source": [
    "## Button(버튼) \n",
    "`-` `Button`을 이용하여 `메소드` 또는 `함수` 등을 실행시키기 위한 `단추`를 생성"
   ]
  },
  {
   "cell_type": "markdown",
   "id": "parallel-registrar",
   "metadata": {},
   "source": [
    "### Button 사용"
   ]
  },
  {
   "cell_type": "markdown",
   "id": "spanish-gentleman",
   "metadata": {},
   "source": [
    "```python\n",
    "import tkinter\n",
    "\n",
    "window=tkinter.Tk()\n",
    "window.title(\"YUN DAE HEE\")\n",
    "window.geometry(\"640x400+100+100\")\n",
    "window.resizable(False, False)\n",
    "\n",
    "count=0\n",
    "\n",
    "def countUP():\n",
    "    global count\n",
    "    count +=1\n",
    "    label.config(text=str(count))\n",
    "\n",
    "label = tkinter.Label(window, text=\"0\")\n",
    "label.pack()\n",
    "\n",
    "button = tkinter.Button(window, overrelief=\"solid\", width=15, command=countUP, repeatdelay=1000, repeatinterval=100)\n",
    "button.pack()\n",
    "\n",
    "window.mainloop()\n",
    "```"
   ]
  },
  {
   "cell_type": "markdown",
   "id": "conservative-worth",
   "metadata": {},
   "source": [
    "`-` `tkinter.Button(윈도우 창, 파라미터1, 파라미터2, 파라미터3, ...)`을 사용하여 해당 `윈도우 창`에 표시할 `버튼의 속성`을 설정\n",
    "\n",
    "`-` 파라미터 중 `command`를 이용하여 `사용자 정의 함수 : countUP`을 실행"
   ]
  },
  {
   "cell_type": "markdown",
   "id": "alone-sweden",
   "metadata": {},
   "source": [
    "`-` `label.config()`를 통해 label의 text라는 속성을 변화시킴"
   ]
  },
  {
   "cell_type": "markdown",
   "id": "wrong-sphere",
   "metadata": {},
   "source": [
    "## Entry(기입창)\n",
    "`-` `Entry`을 이용하여 텍스트를 `입력`받거나 `출력`하기 위한 `기입창`을 생성"
   ]
  },
  {
   "cell_type": "markdown",
   "id": "urban-bangkok",
   "metadata": {},
   "source": [
    "### Entry 사용"
   ]
  },
  {
   "cell_type": "markdown",
   "id": "solid-capital",
   "metadata": {},
   "source": [
    "```python\n",
    "import tkinter\n",
    "from math import *\n",
    "\n",
    "window=tkinter.Tk()\n",
    "window.title(\"YUN DAE HEE\")\n",
    "window.geometry(\"640x480+100+100\")\n",
    "window.resizable(False, False)\n",
    "\n",
    "def calc(event):\n",
    "    label.config(text=\"결과=\"+str(eval(entry.get())))\n",
    "\n",
    "entry=tkinter.Entry(window)\n",
    "entry.bind(\"<Return>\", calc)\n",
    "entry.pack()\n",
    "\n",
    "label=tkinter.Label(window)\n",
    "label.pack()\n",
    "\n",
    "window.mainloop()\n",
    "```"
   ]
  },
  {
   "cell_type": "markdown",
   "id": "quiet-forestry",
   "metadata": {},
   "source": [
    "`-` `tkinter.Entry(윈도우 창, 파라미터1, 파라미터2, 파라미터3, ...)`을 사용하여 해당 `윈도우 창`에 표시할 `기입창의 속성`을 설정\n",
    "\n",
    "`-` `Entry.bind()`를 이용하여 `key`나 `mouse` 등의 `event`를 처리하여 `메소드`나 `함수`를 실행\n",
    "\n",
    "`-` `기입창`에 간단한 `수학함수` 등을 작성 후 `Enter 키`를 입력시 `라벨`에 결과가 표시\n",
    "\n",
    "`-` ex) 2 + 2 입력시 결과 = 4가 반환 "
   ]
  },
  {
   "cell_type": "markdown",
   "id": "fantastic-exception",
   "metadata": {},
   "source": [
    "## 계산기 Test "
   ]
  },
  {
   "cell_type": "markdown",
   "id": "opposite-intranet",
   "metadata": {},
   "source": [
    "```python\n",
    "## 파이썬의 tkinter를 통해 계산기를 만들어보자\n",
    "## tkinter import 하기\n",
    "import tkinter as tk\n",
    "\n",
    "## 윈도우창 생성\n",
    "window = tk.Tk()\n",
    "\n",
    "## 윈도우 제목 설정\n",
    "window.title('계산기')\n",
    "\n",
    "## 종료할 때까지 윈도우창 띄우기\n",
    "window.mainloop()\n",
    "```"
   ]
  },
  {
   "cell_type": "markdown",
   "id": "described-devil",
   "metadata": {},
   "source": [
    "`-` 기본 윈도우 창이 생성됨. 근데 크기가 작아서 제목인 계산기가 끝까지 보이지 않음"
   ]
  },
  {
   "cell_type": "code",
   "execution_count": 1,
   "id": "included-status",
   "metadata": {},
   "outputs": [],
   "source": [
    "import test"
   ]
  },
  {
   "cell_type": "code",
   "execution_count": null,
   "id": "distinguished-venue",
   "metadata": {},
   "outputs": [],
   "source": []
  }
 ],
 "metadata": {
  "kernelspec": {
   "display_name": "Python 3",
   "language": "python",
   "name": "python3"
  },
  "language_info": {
   "codemirror_mode": {
    "name": "ipython",
    "version": 3
   },
   "file_extension": ".py",
   "mimetype": "text/x-python",
   "name": "python",
   "nbconvert_exporter": "python",
   "pygments_lexer": "ipython3",
   "version": "3.8.8"
  }
 },
 "nbformat": 4,
 "nbformat_minor": 5
}

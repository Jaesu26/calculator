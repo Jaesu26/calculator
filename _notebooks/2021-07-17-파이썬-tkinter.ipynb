{
 "cells": [
  {
   "cell_type": "markdown",
   "id": "owned-poetry",
   "metadata": {},
   "source": [
    "# 파이썬 tkinter\n",
    "\n",
    "> \"작성 중\"\n",
    "\n",
    "- toc: true\n",
    "- branch: master\n",
    "- badges: true\n",
    "- comments: true\n",
    "- author: 한재수\n",
    "- categories: [python]"
   ]
  },
  {
   "cell_type": "markdown",
   "id": "visible-receiver",
   "metadata": {},
   "source": [
    "`-` 파이썬 tkinter 출처: [https://076923.github.io/posts/Python-tkinter-1/](https://076923.github.io/posts/Python-tkinter-1/)\n",
    "\n",
    "`-` 위의 사이트를 참고하면서 계산기를 구현하자"
   ]
  },
  {
   "cell_type": "markdown",
   "id": "welcome-three",
   "metadata": {},
   "source": [
    "# tkinter "
   ]
  },
  {
   "cell_type": "markdown",
   "id": "neither-guide",
   "metadata": {},
   "source": [
    "`-` GUI에 대한 표준 Python 인터페이스이며 Window 창을 생성\n",
    "\n",
    "`-` `import tkinter as tk`"
   ]
  },
  {
   "cell_type": "markdown",
   "id": "seeing-angle",
   "metadata": {},
   "source": [
    "- GUI가 뭐지??"
   ]
  },
  {
   "cell_type": "markdown",
   "id": "smart-grain",
   "metadata": {},
   "source": [
    "`-` 그래픽 사용자 인터페이스(graphical user interface, GUI)는 사용자가 편리하게 사용할 수 있도록 입출력 등의 기능을 알기 쉬운 아이콘 따위의 그래픽으로 나타낸 것"
   ]
  },
  {
   "cell_type": "markdown",
   "id": "bearing-allah",
   "metadata": {},
   "source": [
    "`-` GUI 참고: [GUI 설명](https://ko.wikipedia.org/wiki/%EA%B7%B8%EB%9E%98%ED%94%BD_%EC%82%AC%EC%9A%A9%EC%9E%90_%EC%9D%B8%ED%84%B0%ED%8E%98%EC%9D%B4%EC%8A%A4)"
   ]
  },
  {
   "cell_type": "markdown",
   "id": "stable-television",
   "metadata": {},
   "source": [
    "## tkinter 사용 "
   ]
  },
  {
   "cell_type": "markdown",
   "id": "ready-determination",
   "metadata": {},
   "source": [
    "`-` `윈도우이름 = tk.Tk()`를 이용하여 가장 상위 레벨의 윈도우 창을 생성\n",
    "\n",
    "`-` `윈도우이름.mainloop()`를 사용하여 `윈도우이름`의 윈도우 창을 `윈도우가 종료될 때 까지 실행`\n",
    "\n",
    "`-` `생성 구문`과 `반복 구문` 사이에 `위젯`을 생성하고 적용\n",
    "\n",
    "`-` `tk.Tk()`를 적용할 경우 가장 기본적인 `윈도우 창이 생성`"
   ]
  },
  {
   "cell_type": "markdown",
   "id": "derived-ranch",
   "metadata": {},
   "source": [
    "## window 창 설정 "
   ]
  },
  {
   "cell_type": "markdown",
   "id": "featured-probability",
   "metadata": {},
   "source": [
    "`-` `윈도우이름.title(\"제목\")`을 이용하여 `윈도우 창의 제목`을 설정"
   ]
  },
  {
   "cell_type": "markdown",
   "id": "engaged-conversation",
   "metadata": {},
   "source": [
    "## 계산기 Test "
   ]
  },
  {
   "cell_type": "markdown",
   "id": "first-london",
   "metadata": {},
   "source": [
    "`1.` \n",
    "```python\n",
    "## 파이썬의 tkinter를 통해 계산기를 만들어보자\n",
    "## tkinter import 하기\n",
    "import tkinter as tk\n",
    "\n",
    "## 윈도우창 생성\n",
    "window = tk.Tk()\n",
    "\n",
    "## 윈도우 제목 설정\n",
    "window.title('계산기')\n",
    "\n",
    "## 종료할 때까지 윈도우창 띄우기\n",
    "window.mainloop()\n",
    "```"
   ]
  },
  {
   "cell_type": "markdown",
   "id": "floral-moses",
   "metadata": {},
   "source": [
    "`-` 기본 윈도우 창이 생성됨. 근데 크기가 작아서 제목인 계산기가 끝까지 보이지 않음"
   ]
  },
  {
   "cell_type": "code",
   "execution_count": null,
   "id": "approximate-manual",
   "metadata": {},
   "outputs": [],
   "source": []
  }
 ],
 "metadata": {
  "kernelspec": {
   "display_name": "Python 3",
   "language": "python",
   "name": "python3"
  },
  "language_info": {
   "codemirror_mode": {
    "name": "ipython",
    "version": 3
   },
   "file_extension": ".py",
   "mimetype": "text/x-python",
   "name": "python",
   "nbconvert_exporter": "python",
   "pygments_lexer": "ipython3",
   "version": "3.8.8"
  }
 },
 "nbformat": 4,
 "nbformat_minor": 5
}

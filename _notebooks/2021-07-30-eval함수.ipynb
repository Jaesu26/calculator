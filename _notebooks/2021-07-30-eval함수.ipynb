{
 "cells": [
  {
   "cell_type": "markdown",
   "id": "antique-scotland",
   "metadata": {},
   "source": [
    "# eval 함수\n",
    "\n",
    "> \"작성 완료\"\n",
    "\n",
    "- toc: true\n",
    "- branch: master\n",
    "- badges: true\n",
    "- comments: true\n",
    "- author: 한재수\n",
    "- categories: [python]"
   ]
  },
  {
   "cell_type": "markdown",
   "id": "designed-johns",
   "metadata": {},
   "source": [
    "## eval 함수 사용법\n",
    "`-` `eval()` 함수는 `인자에 문자열`을 input하면 `그대로 실행`하여 출력"
   ]
  },
  {
   "cell_type": "code",
   "execution_count": 5,
   "id": "signed-andrews",
   "metadata": {},
   "outputs": [
    {
     "data": {
      "text/plain": [
       "'10 + 10'"
      ]
     },
     "execution_count": 5,
     "metadata": {},
     "output_type": "execute_result"
    }
   ],
   "source": [
    "rtn1 = '10 + 10'\n",
    "rtn1"
   ]
  },
  {
   "cell_type": "code",
   "execution_count": 6,
   "id": "breeding-fiction",
   "metadata": {},
   "outputs": [
    {
     "data": {
      "text/plain": [
       "20"
      ]
     },
     "execution_count": 6,
     "metadata": {},
     "output_type": "execute_result"
    }
   ],
   "source": [
    "rtn2 = eval('10 + 10')\n",
    "rtn2"
   ]
  },
  {
   "cell_type": "code",
   "execution_count": 3,
   "id": "excess-animal",
   "metadata": {},
   "outputs": [
    {
     "name": "stdout",
     "output_type": "stream",
     "text": [
      "5\n"
     ]
    }
   ],
   "source": [
    "a = [1, 2, 3, 4, 6]\n",
    "aa = len(a)\n",
    "print(eval('aa'))"
   ]
  },
  {
   "cell_type": "code",
   "execution_count": null,
   "id": "animal-virgin",
   "metadata": {},
   "outputs": [],
   "source": []
  }
 ],
 "metadata": {
  "kernelspec": {
   "display_name": "Python 3",
   "language": "python",
   "name": "python3"
  },
  "language_info": {
   "codemirror_mode": {
    "name": "ipython",
    "version": 3
   },
   "file_extension": ".py",
   "mimetype": "text/x-python",
   "name": "python",
   "nbconvert_exporter": "python",
   "pygments_lexer": "ipython3",
   "version": "3.8.8"
  }
 },
 "nbformat": 4,
 "nbformat_minor": 5
}
